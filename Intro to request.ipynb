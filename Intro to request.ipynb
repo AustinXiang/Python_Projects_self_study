{
 "cells": [
  {
   "cell_type": "code",
   "execution_count": 5,
   "metadata": {},
   "outputs": [],
   "source": [
    "# we import the library first\n",
    "import requests\n",
    "import webbrowser"
   ]
  },
  {
   "cell_type": "code",
   "execution_count": 6,
   "metadata": {},
   "outputs": [],
   "source": [
    "# set up the key word we are going to experiment\n",
    "param = {\"wd\": \"Python\"}"
   ]
  },
  {
   "cell_type": "code",
   "execution_count": 7,
   "metadata": {},
   "outputs": [
    {
     "data": {
      "text/plain": [
       "{'wd': 'Python'}"
      ]
     },
     "execution_count": 7,
     "metadata": {},
     "output_type": "execute_result"
    }
   ],
   "source": [
    "param"
   ]
  },
  {
   "cell_type": "code",
   "execution_count": 12,
   "metadata": {},
   "outputs": [],
   "source": [
    "r = requests.get('http://www.baidu.com/s', params=param)"
   ]
  },
  {
   "cell_type": "code",
   "execution_count": 13,
   "metadata": {},
   "outputs": [
    {
     "data": {
      "text/plain": [
       "<Response [200]>"
      ]
     },
     "execution_count": 13,
     "metadata": {},
     "output_type": "execute_result"
    }
   ],
   "source": [
    "r"
   ]
  },
  {
   "cell_type": "code",
   "execution_count": 14,
   "metadata": {},
   "outputs": [
    {
     "name": "stdout",
     "output_type": "stream",
     "text": [
      "http://www.baidu.com/s?wd=Python\n"
     ]
    }
   ],
   "source": [
    "print(r.url)"
   ]
  },
  {
   "cell_type": "code",
   "execution_count": 15,
   "metadata": {},
   "outputs": [
    {
     "data": {
      "text/plain": [
       "True"
      ]
     },
     "execution_count": 15,
     "metadata": {},
     "output_type": "execute_result"
    }
   ],
   "source": [
    "webbrowser.open(r.url)"
   ]
  },
  {
   "cell_type": "code",
   "execution_count": 17,
   "metadata": {},
   "outputs": [
    {
     "name": "stdout",
     "output_type": "stream",
     "text": [
      "Hello there,  !\n"
     ]
    }
   ],
   "source": [
    "data = {'firstname': 'a', 'lastname': 'b'}\n",
    "r = requests.post('http://pythonscraping.com/files/processing.php', data=data)\n",
    "print(r.text)"
   ]
  },
  {
   "cell_type": "code",
   "execution_count": 18,
   "metadata": {},
   "outputs": [
    {
     "ename": "FileNotFoundError",
     "evalue": "[Errno 2] No such file or directory: './image.png'",
     "output_type": "error",
     "traceback": [
      "\u001b[0;31m---------------------------------------------------------------------------\u001b[0m",
      "\u001b[0;31mFileNotFoundError\u001b[0m                         Traceback (most recent call last)",
      "\u001b[0;32m<ipython-input-18-1b09607bacd8>\u001b[0m in \u001b[0;36m<module>\u001b[0;34m\u001b[0m\n\u001b[0;32m----> 1\u001b[0;31m \u001b[0mfile\u001b[0m \u001b[0;34m=\u001b[0m \u001b[0;34m{\u001b[0m\u001b[0;34m'uploadFile'\u001b[0m\u001b[0;34m:\u001b[0m \u001b[0mopen\u001b[0m\u001b[0;34m(\u001b[0m\u001b[0;34m'./image.png'\u001b[0m\u001b[0;34m,\u001b[0m \u001b[0;34m'rb'\u001b[0m\u001b[0;34m)\u001b[0m\u001b[0;34m}\u001b[0m\u001b[0;34m\u001b[0m\u001b[0;34m\u001b[0m\u001b[0m\n\u001b[0m\u001b[1;32m      2\u001b[0m \u001b[0mr\u001b[0m \u001b[0;34m=\u001b[0m \u001b[0mrequests\u001b[0m\u001b[0;34m.\u001b[0m\u001b[0mpost\u001b[0m\u001b[0;34m(\u001b[0m\u001b[0;34m'http://pythonscraping.com/files/processing2.php'\u001b[0m\u001b[0;34m,\u001b[0m \u001b[0mfiles\u001b[0m\u001b[0;34m=\u001b[0m\u001b[0mfile\u001b[0m\u001b[0;34m)\u001b[0m\u001b[0;34m\u001b[0m\u001b[0;34m\u001b[0m\u001b[0m\n\u001b[1;32m      3\u001b[0m \u001b[0mprint\u001b[0m\u001b[0;34m(\u001b[0m\u001b[0mr\u001b[0m\u001b[0;34m.\u001b[0m\u001b[0mtext\u001b[0m\u001b[0;34m)\u001b[0m\u001b[0;34m\u001b[0m\u001b[0;34m\u001b[0m\u001b[0m\n",
      "\u001b[0;31mFileNotFoundError\u001b[0m: [Errno 2] No such file or directory: './image.png'"
     ]
    }
   ],
   "source": [
    "file = {'uploadFile': open('./image.png', 'rb')}\n",
    "r = requests.post('http://pythonscraping.com/files/processing2.php', files=file)\n",
    "print(r.text)\n"
   ]
  },
  {
   "cell_type": "code",
   "execution_count": 19,
   "metadata": {},
   "outputs": [
    {
     "name": "stdout",
     "output_type": "stream",
     "text": [
      "{'loggedin': '1', 'username': 'Morvan'}\n",
      "<!DOCTYPE html PUBLIC \"-//W3C//DTD XHTML+RDFa 1.0//EN\"\n",
      "  \"http://www.w3.org/MarkUp/DTD/xhtml-rdfa-1.dtd\">\n",
      "<html xmlns=\"http://www.w3.org/1999/xhtml\" xml:lang=\"en\" version=\"XHTML+RDFa 1.0\" dir=\"ltr\"\n",
      "  xmlns:content=\"http://purl.org/rss/1.0/modules/content/\"\n",
      "  xmlns:dc=\"http://purl.org/dc/terms/\"\n",
      "  xmlns:foaf=\"http://xmlns.com/foaf/0.1/\"\n",
      "  xmlns:og=\"http://ogp.me/ns#\"\n",
      "  xmlns:rdfs=\"http://www.w3.org/2000/01/rdf-schema#\"\n",
      "  xmlns:sioc=\"http://rdfs.org/sioc/ns#\"\n",
      "  xmlns:sioct=\"http://rdfs.org/sioc/types#\"\n",
      "  xmlns:skos=\"http://www.w3.org/2004/02/skos/core#\"\n",
      "  xmlns:xsd=\"http://www.w3.org/2001/XMLSchema#\">\n",
      "\n",
      "<head profile=\"http://www.w3.org/1999/xhtml/vocab\">\n",
      "  <meta charset=\"utf-8\" />\n",
      "<link rel=\"shortcut icon\" href=\"http://pythonscraping.com/misc/favicon.ico\" type=\"image/vnd.microsoft.icon\" />\n",
      "<meta name=\"viewport\" content=\"width=device-width, initial-scale=1\" />\n",
      "<meta name=\"MobileOptimized\" content=\"width\" />\n",
      "<meta name=\"Generator\" content=\"Drupal 7 (http://drupal.org)\" />\n",
      "<meta name=\"HandheldFriendly\" content=\"true\" />\n",
      "  <title>Page not found | Web Scraping with Python</title>\n",
      "  <style type=\"text/css\" media=\"all\">\n",
      "@import url(\"http://pythonscraping.com/modules/system/system.base.css?pa2nir\");\n",
      "@import url(\"http://pythonscraping.com/modules/system/system.menus.css?pa2nir\");\n",
      "@import url(\"http://pythonscraping.com/modules/system/system.messages.css?pa2nir\");\n",
      "@import url(\"http://pythonscraping.com/modules/system/system.theme.css?pa2nir\");\n",
      "</style>\n",
      "<style type=\"text/css\" media=\"all\">\n",
      "@import url(\"http://pythonscraping.com/modules/comment/comment.css?pa2nir\");\n",
      "@import url(\"http://pythonscraping.com/modules/field/theme/field.css?pa2nir\");\n",
      "@import url(\"http://pythonscraping.com/modules/node/node.css?pa2nir\");\n",
      "@import url(\"http://pythonscraping.com/modules/search/search.css?pa2nir\");\n",
      "@import url(\"http://pythonscraping.com/modules/user/user.css?pa2nir\");\n",
      "@import url(\"http://pythonscraping.com/sites/all/modules/views/css/views.css?pa2nir\");\n",
      "@import url(\"http://pythonscraping.com/sites/all/modules/ckeditor/css/ckeditor.css?pa2nir\");\n",
      "</style>\n",
      "<style type=\"text/css\" media=\"all\">\n",
      "@import url(\"http://pythonscraping.com/sites/all/modules/ctools/css/ctools.css?pa2nir\");\n",
      "</style>\n",
      "<style type=\"text/css\" media=\"all\">\n",
      "@import url(\"http://pythonscraping.com/sites/all/themes/skeletontheme/css/skeleton.css?pa2nir\");\n",
      "@import url(\"http://pythonscraping.com/sites/all/themes/skeletontheme/css/style.css?pa2nir\");\n",
      "@import url(\"http://pythonscraping.com/sites/all/themes/skeletontheme/css/buttons.css?pa2nir\");\n",
      "@import url(\"http://pythonscraping.com/sites/all/themes/skeletontheme/css/layout.css?pa2nir\");\n",
      "@import url(\"http://pythonscraping.com/sites/all/themes/skeletontheme/color/colors.css?pa2nir\");\n",
      "</style>\n",
      "  <script type=\"text/javascript\" src=\"http://pythonscraping.com/misc/jquery.js?v=1.4.4\"></script>\n",
      "<script type=\"text/javascript\" src=\"http://pythonscraping.com/misc/jquery.once.js?v=1.2\"></script>\n",
      "<script type=\"text/javascript\" src=\"http://pythonscraping.com/misc/drupal.js?pa2nir\"></script>\n",
      "<script type=\"text/javascript\" src=\"http://pythonscraping.com/sites/all/themes/skeletontheme/js/jquery.mobilemenu.js?pa2nir\"></script>\n",
      "<script type=\"text/javascript\">\n",
      "<!--//--><![CDATA[//><!--\n",
      "jQuery(document).ready(function($) { \n",
      "\t\n",
      "\t$(\"#navigation .content > ul\").mobileMenu({\n",
      "\t\tprependTo: \"#navigation\",\n",
      "\t\tcombine: false,\n",
      "        switchWidth: 760,\n",
      "        topOptionText: Drupal.settings.skeletontheme['topoptiontext']\n",
      "\t});\n",
      "\t\n",
      "\t});\n",
      "//--><!]]>\n",
      "</script>\n",
      "<script type=\"text/javascript\" src=\"http://pythonscraping.com/sites/all/modules/google_analytics/googleanalytics.js?pa2nir\"></script>\n",
      "<script type=\"text/javascript\">\n",
      "<!--//--><![CDATA[//><!--\n",
      "(function(i,s,o,g,r,a,m){i[\"GoogleAnalyticsObject\"]=r;i[r]=i[r]||function(){(i[r].q=i[r].q||[]).push(arguments)},i[r].l=1*new Date();a=s.createElement(o),m=s.getElementsByTagName(o)[0];a.async=1;a.src=g;m.parentNode.insertBefore(a,m)})(window,document,\"script\",\"https://www.google-analytics.com/analytics.js\",\"ga\");ga(\"create\", \"UA-57871098-1\", {\"cookieDomain\":\"auto\"});ga(\"set\", \"anonymizeIp\", true);ga(\"set\", \"page\", \"/404.html?page=\" + document.location.pathname + document.location.search + \"&from=\" + document.referrer);ga(\"send\", \"pageview\");\n",
      "//--><!]]>\n",
      "</script>\n",
      "<script type=\"text/javascript\">\n",
      "<!--//--><![CDATA[//><!--\n",
      "jQuery.extend(Drupal.settings, {\"basePath\":\"\\/\",\"pathPrefix\":\"\",\"skeletontheme\":{\"topoptiontext\":\"Select a page\"},\"ajaxPageState\":{\"theme\":\"skeletontheme\",\"theme_token\":\"exsVJX4SMKpTnJkdKWJyUz8in2OnAf5ZZdYdkmfvf58\",\"js\":{\"misc\\/jquery.js\":1,\"misc\\/jquery.once.js\":1,\"misc\\/drupal.js\":1,\"sites\\/all\\/themes\\/skeletontheme\\/js\\/jquery.mobilemenu.js\":1,\"0\":1,\"sites\\/all\\/modules\\/google_analytics\\/googleanalytics.js\":1,\"1\":1},\"css\":{\"modules\\/system\\/system.base.css\":1,\"modules\\/system\\/system.menus.css\":1,\"modules\\/system\\/system.messages.css\":1,\"modules\\/system\\/system.theme.css\":1,\"modules\\/comment\\/comment.css\":1,\"modules\\/field\\/theme\\/field.css\":1,\"modules\\/node\\/node.css\":1,\"modules\\/search\\/search.css\":1,\"modules\\/user\\/user.css\":1,\"sites\\/all\\/modules\\/views\\/css\\/views.css\":1,\"sites\\/all\\/modules\\/ckeditor\\/css\\/ckeditor.css\":1,\"sites\\/all\\/modules\\/ctools\\/css\\/ctools.css\":1,\"sites\\/all\\/themes\\/skeletontheme\\/css\\/skeleton.css\":1,\"sites\\/all\\/themes\\/skeletontheme\\/css\\/style.css\":1,\"sites\\/all\\/themes\\/skeletontheme\\/css\\/buttons.css\":1,\"sites\\/all\\/themes\\/skeletontheme\\/css\\/layout.css\":1,\"sites\\/all\\/themes\\/skeletontheme\\/color\\/colors.css\":1}},\"googleanalytics\":{\"trackOutbound\":1,\"trackMailto\":1,\"trackDownload\":1,\"trackDownloadExtensions\":\"7z|aac|arc|arj|asf|asx|avi|bin|csv|doc(x|m)?|dot(x|m)?|exe|flv|gif|gz|gzip|hqx|jar|jpe?g|js|mp(2|3|4|e?g)|mov(ie)?|msi|msp|pdf|phps|png|ppt(x|m)?|pot(x|m)?|pps(x|m)?|ppam|sld(x|m)?|thmx|qtm?|ra(m|r)?|sea|sit|tar|tgz|torrent|txt|wav|wma|wmv|wpd|xls(x|m|b)?|xlt(x|m)|xlam|xml|z|zip\"}});\n",
      "//--><!]]>\n",
      "</script>\n",
      "</head>\n",
      "<body class=\"html not-front not-logged-in one-sidebar sidebar-first page-pages page-pages-cookies page-pages-cookies-profilephp\" >\n",
      "  <div id=\"skip-link\">\n",
      "    <a href=\"#main-content\" class=\"element-invisible element-focusable\">Skip to main content</a>\n",
      "  </div>\n",
      "    <div id=\"wrap\">\n",
      "    <div class=\"container\">\n",
      "        \n",
      "                \n",
      "        <div class=\"clear\"></div>\n",
      "        \n",
      "        <!-- #header -->\n",
      "                <div id=\"header\" class=\"sixteen columns clearfix\">   \n",
      "                \n",
      "            <div class=\"inner\">\n",
      "    \n",
      "                                  <a href=\"/\" title=\"Home\" rel=\"home\" id=\"logo\">\n",
      "                    <img src=\"http://pythonscraping.com/sites/default/files/lrg_0.jpg\" alt=\"Home\" />\n",
      "                  </a>\n",
      "                                \n",
      "                                <div id=\"name-and-slogan\">\n",
      "                \n",
      "                                        <div id=\"site-name\">\n",
      "                    <a href=\"/\" title=\"Home\" rel=\"home\">Web Scraping with Python</a>\n",
      "                    </div>\n",
      "                                        \n",
      "                                    \n",
      "                </div>\n",
      "                            </div>\n",
      "        </div><!-- /#header -->\n",
      "        \n",
      "                \n",
      "        <div class=\"clear\"></div>\n",
      "        \n",
      "        <!-- #navigation -->\n",
      "        <div id=\"navigation\" class=\"sixteen columns clearfix\">\n",
      "        \n",
      "            <div class=\"menu-header\">\n",
      "                            \t\t\t\t<div class=\"content\">\n",
      "\t\t\t\t                </div>\n",
      "                        </div>\n",
      "            \n",
      "        </div><!-- /#navigation -->\n",
      "        \n",
      "                <!-- #sidebar-first -->\n",
      "        <div id=\"sidebar-first\" class=\"five columns\">\n",
      "              <div class=\"region region-sidebar-first\">\n",
      "    <div id=\"block-block-1\" class=\"block block-block\">\n",
      "\n",
      "    <h2>Buy WSwP Directly from O&#039;Reilly:</h2>\n",
      "  \n",
      "  <div class=\"content\">\n",
      "    <iframe src=\"http://www.oreilly.com/authors/widgets/669.html\" height=\"500px\" width=\"200px\" scrolling=\"no\" frameborder=\"0\"></iframe>  </div>\n",
      "</div>\n",
      "  </div>\n",
      "        </div><!-- /#sidebar-first -->\n",
      "                \n",
      "                <div id=\"content\" class=\"eleven columns\">\n",
      "\t\t        \n",
      "                    \n",
      "                        \n",
      "            <div id=\"main\">\n",
      "            \n",
      "                                \n",
      "                                \n",
      "                                <h1 class=\"title\" id=\"page-title\">\n",
      "                  Page not found                </h1>\n",
      "                                \n",
      "                                \n",
      "                                <div class=\"tabs\">\n",
      "                                  </div>\n",
      "                                \n",
      "                                \n",
      "                                \n",
      "                  <div class=\"region region-content\">\n",
      "    <div id=\"block-system-main\" class=\"block block-system\">\n",
      "\n",
      "    \n",
      "  <div class=\"content\">\n",
      "    The requested page \"/pages/cookies/profile.php\" could not be found.  </div>\n",
      "</div>\n",
      "  </div>\n",
      "                                \n",
      "            </div>\n",
      "        \n",
      "        </div><!-- /#content -->\n",
      "        \n",
      "                \n",
      "        <div class=\"clear\"></div>\n",
      "        \n",
      "                \n",
      "\t</div>\n",
      "        \n",
      "\t<div id=\"footer\" >\n",
      "        <div class=\"container\">\n",
      "        \t<div class=\"sixteen columns clearfix\">\n",
      "        \n",
      "                <div class=\"one_third\">\n",
      "                                </div>\n",
      "                \n",
      "                <div class=\"one_third\">\n",
      "                                </div>\n",
      "                \n",
      "                <div class=\"one_third last\">\n",
      "                                </div>\n",
      "        \n",
      "                <div class=\"clear\"></div>\n",
      "                \n",
      "                                \n",
      "                <div class=\"clear\"></div>\n",
      "                \n",
      "                <div id=\"credits\">\n",
      "                2019                                 Web Scraping with Python<br/>\n",
      "                                &copy; Ryan Mitchell, All Rights Reserved. For questions about reproduction or use of any material on this site, please contact ryan.e.mitchell@gmail.com\n",
      "                </div>\n",
      "        \t</div>\n",
      "        </div>\n",
      "    </div>\n",
      "    \n",
      "</div> <!-- /#wrap -->  </body>\n",
      "</html>\n",
      "\n"
     ]
    }
   ],
   "source": [
    "payload = {'username': 'Morvan', 'password': 'password'}\n",
    "r = requests.post('http://pythonscraping.com/pages/cookies/welcome.php', data=payload)\n",
    "print(r.cookies.get_dict())\n",
    "\n",
    "# {'username': 'Morvan', 'loggedin': '1'}\n",
    "\n",
    "\n",
    "r = requests.get('http://pythonscraping.com/pages/cookies/profile.php', cookies=r.cookies)\n",
    "print(r.text)"
   ]
  },
  {
   "cell_type": "code",
   "execution_count": 20,
   "metadata": {},
   "outputs": [
    {
     "name": "stdout",
     "output_type": "stream",
     "text": [
      "{'loggedin': '1', 'username': 'Morvan'}\n"
     ]
    }
   ],
   "source": [
    "session = requests.Session()\n",
    "payload = {'username': 'Morvan', 'password': 'password'}\n",
    "r = session.post('http://pythonscraping.com/pages/cookies/welcome.php', data=payload)\n",
    "print(r.cookies.get_dict())"
   ]
  },
  {
   "cell_type": "code",
   "execution_count": null,
   "metadata": {},
   "outputs": [],
   "source": []
  }
 ],
 "metadata": {
  "kernelspec": {
   "display_name": "Python 3",
   "language": "python",
   "name": "python3"
  },
  "language_info": {
   "codemirror_mode": {
    "name": "ipython",
    "version": 3
   },
   "file_extension": ".py",
   "mimetype": "text/x-python",
   "name": "python",
   "nbconvert_exporter": "python",
   "pygments_lexer": "ipython3",
   "version": "3.6.8"
  }
 },
 "nbformat": 4,
 "nbformat_minor": 2
}
