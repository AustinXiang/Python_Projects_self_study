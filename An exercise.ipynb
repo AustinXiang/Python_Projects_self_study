{
 "cells": [
  {
   "cell_type": "code",
   "execution_count": 1,
   "metadata": {},
   "outputs": [],
   "source": [
    "from bs4 import BeautifulSoup\n",
    "from urllib.request import urlopen\n",
    "import re\n",
    "import random\n",
    "import numpy as np"
   ]
  },
  {
   "cell_type": "code",
   "execution_count": null,
   "metadata": {},
   "outputs": [],
   "source": []
  },
  {
   "cell_type": "code",
   "execution_count": 2,
   "metadata": {},
   "outputs": [],
   "source": [
    "base_url = \"https://baike.baidu.com\"\n",
    "initial = [\"/item/%E7%BD%91%E7%BB%9C%E7%88%AC%E8%99%AB/5162711\"]"
   ]
  },
  {
   "cell_type": "code",
   "execution_count": 5,
   "metadata": {},
   "outputs": [],
   "source": [
    "url = base_url + initial[-1]"
   ]
  },
  {
   "cell_type": "code",
   "execution_count": 6,
   "metadata": {},
   "outputs": [
    {
     "data": {
      "text/plain": [
       "'https://baike.baidu.com/item/%E7%BD%91%E7%BB%9C%E7%88%AC%E8%99%AB/5162711'"
      ]
     },
     "execution_count": 6,
     "metadata": {},
     "output_type": "execute_result"
    }
   ],
   "source": [
    "url"
   ]
  },
  {
   "cell_type": "code",
   "execution_count": 8,
   "metadata": {},
   "outputs": [],
   "source": [
    "html = urlopen(url).read().decode('utf-8')"
   ]
  },
  {
   "cell_type": "code",
   "execution_count": 10,
   "metadata": {},
   "outputs": [],
   "source": [
    "soup = BeautifulSoup(html, features='lxml')"
   ]
  },
  {
   "cell_type": "code",
   "execution_count": 13,
   "metadata": {},
   "outputs": [
    {
     "name": "stdout",
     "output_type": "stream",
     "text": [
      "网络爬虫     url:  /item/%E7%BD%91%E7%BB%9C%E7%88%AC%E8%99%AB/5162711\n"
     ]
    }
   ],
   "source": [
    "print(soup.find('h1').get_text(), '    url: ', initial[-1])"
   ]
  },
  {
   "cell_type": "code",
   "execution_count": 15,
   "metadata": {},
   "outputs": [],
   "source": [
    "# find valid urls \n",
    "sub_urls = soup.find_all(\"a\", {\"target\": \"_blank\", \"href\": re.compile(\"/item/(%.{2})+$\")})"
   ]
  },
  {
   "cell_type": "code",
   "execution_count": 17,
   "metadata": {},
   "outputs": [],
   "source": [
    "if len(sub_urls) != 0:\n",
    "    initial.append(random.sample(sub_urls, 1)[0]['href'])\n",
    "else:\n",
    "    # no valid sub link found\n",
    "    initial.pop()"
   ]
  },
  {
   "cell_type": "code",
   "execution_count": 19,
   "metadata": {},
   "outputs": [
    {
     "data": {
      "text/plain": [
       "['/item/%E7%BD%91%E7%BB%9C%E7%88%AC%E8%99%AB/5162711',\n",
       " '/item/%E7%B3%BB%E7%BB%9F%E8%AE%BE%E8%AE%A1']"
      ]
     },
     "execution_count": 19,
     "metadata": {},
     "output_type": "execute_result"
    }
   ],
   "source": [
    "initial"
   ]
  },
  {
   "cell_type": "code",
   "execution_count": 20,
   "metadata": {},
   "outputs": [
    {
     "name": "stdout",
     "output_type": "stream",
     "text": [
      "0 网络爬虫     url:  /item/%E7%BD%91%E7%BB%9C%E7%88%AC%E8%99%AB/5162711\n",
      "1 搜索引擎     url:  /item/%E6%90%9C%E7%B4%A2%E5%BC%95%E6%93%8E\n",
      "2 杨致远     url:  /item/%E6%9D%A8%E8%87%B4%E8%BF%9C\n",
      "3 王嘉廉     url:  /item/%E7%8E%8B%E5%98%89%E5%BB%89\n",
      "4 耶鲁大学     url:  /item/%E8%80%B6%E9%B2%81%E5%A4%A7%E5%AD%A6\n",
      "5 克莱尔·丹尼斯     url:  /item/%E5%85%8B%E8%8E%B1%E5%B0%94%C2%B7%E4%B8%B9%E4%B8%9D\n",
      "6 梅丽尔·斯特里普     url:  /item/%E6%A2%85%E4%B8%BD%E5%B0%94%C2%B7%E6%96%AF%E7%89%B9%E9%87%8C%E6%99%AE\n",
      "7 穿普拉达的女王     url:  /item/%E7%A9%BF%E6%99%AE%E6%8B%89%E8%BE%BE%E7%9A%84%E5%A5%B3%E7%8E%8B\n",
      "8 二十世纪福克斯电影公司     url:  /item/%E4%BA%8C%E5%8D%81%E4%B8%96%E7%BA%AA%E7%A6%8F%E5%85%8B%E6%96%AF%E7%94%B5%E5%BD%B1%E5%85%AC%E5%8F%B8\n",
      "9 贝弗利山     url:  /item/%E8%B4%9D%E5%BC%97%E5%88%A9%E5%B1%B1\n",
      "10 亚洲人     url:  /item/%E4%BA%9A%E6%B4%B2%E4%BA%BA\n",
      "11 贝弗利山     url:  /item/%E8%B4%9D%E5%BC%97%E5%88%A9%E5%B1%B1\n",
      "12 飞越比佛利     url:  /item/%E9%A3%9E%E8%B6%8A%E6%AF%94%E4%BD%9B%E5%88%A9\n",
      "13 兰达     url:  /item/%E5%85%B0%E8%BE%BE\n",
      "14 飞越比佛利     url:  /item/%E9%A3%9E%E8%B6%8A%E6%AF%94%E4%BD%9B%E5%88%A9\n",
      "15 台湾     url:  /item/%E5%8F%B0%E6%B9%BE\n",
      "16 政府     url:  /item/%E6%94%BF%E5%BA%9C\n",
      "17 吐蕃     url:  /item/%E5%90%90%E8%95%83\n",
      "18 李世民     url:  /item/%E5%94%90%E5%A4%AA%E5%AE%97\n",
      "19 陈叔达     url:  /item/%E9%99%88%E5%8F%94%E8%BE%BE\n"
     ]
    }
   ],
   "source": [
    "# now we can right a for loop with it\n",
    "his = [\"/item/%E7%BD%91%E7%BB%9C%E7%88%AC%E8%99%AB/5162711\"]\n",
    "\n",
    "for i in range(20):\n",
    "    url = base_url + his[-1]\n",
    "\n",
    "    html = urlopen(url).read().decode('utf-8')\n",
    "    soup = BeautifulSoup(html, features='lxml')\n",
    "    print(i, soup.find('h1').get_text(), '    url: ', his[-1])\n",
    "\n",
    "    # find valid urls\n",
    "    sub_urls = soup.find_all(\"a\", {\"target\": \"_blank\", \"href\": re.compile(\"/item/(%.{2})+$\")})\n",
    "\n",
    "    if len(sub_urls) != 0:\n",
    "        his.append(random.sample(sub_urls, 1)[0]['href'])\n",
    "    else:\n",
    "        # no valid sub link found\n",
    "        his.pop()"
   ]
  },
  {
   "cell_type": "code",
   "execution_count": null,
   "metadata": {},
   "outputs": [],
   "source": []
  }
 ],
 "metadata": {
  "kernelspec": {
   "display_name": "Python 3",
   "language": "python",
   "name": "python3"
  },
  "language_info": {
   "codemirror_mode": {
    "name": "ipython",
    "version": 3
   },
   "file_extension": ".py",
   "mimetype": "text/x-python",
   "name": "python",
   "nbconvert_exporter": "python",
   "pygments_lexer": "ipython3",
   "version": "3.6.8"
  }
 },
 "nbformat": 4,
 "nbformat_minor": 2
}
