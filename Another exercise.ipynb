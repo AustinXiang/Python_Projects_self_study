{
 "cells": [
  {
   "cell_type": "code",
   "execution_count": 1,
   "metadata": {},
   "outputs": [],
   "source": [
    "from bs4 import BeautifulSoup\n",
    "import requests\n",
    "\n",
    "URL = \"http://www.nationalgeographic.com.cn/animals/\""
   ]
  },
  {
   "cell_type": "code",
   "execution_count": 2,
   "metadata": {},
   "outputs": [],
   "source": [
    "html = requests.get(URL).text\n",
    "soup = BeautifulSoup(html, 'lxml')\n",
    "img_ul = soup.find_all('ul', {\"class\": \"img_list\"})"
   ]
  },
  {
   "cell_type": "code",
   "execution_count": 3,
   "metadata": {},
   "outputs": [
    {
     "data": {
      "text/plain": [
       "[<ul class=\"img_list\">\n",
       " <li class=\"mod_w\">\n",
       " <div class=\"imgs cf\">\n",
       " <a href=\"/animals/protection/9123.html\"><img src=\"http://image.ngchina.com.cn/2019/0515/20190515094945226.jpg\"/></a>\n",
       " </div>\n",
       " </li>\n",
       " <li class=\"mod_w\">\n",
       " <div class=\"imgs cf\">\n",
       " <a href=\"/animals/protection/9119.html\"><img src=\"http://image.ngchina.com.cn/2019/0510/20190510033912390.jpg\"/></a>\n",
       " </div>\n",
       " </li>\n",
       " <li class=\"mod_w\">\n",
       " <div class=\"imgs cf\">\n",
       " <a href=\"/animals/facts/9114.html\"><img src=\"http://image.ngchina.com.cn/2019/0506/20190506112549673.jpg\"/></a>\n",
       " </div>\n",
       " </li>\n",
       " </ul>, <ul class=\"img_list\">\n",
       " <li class=\"mod_w\">\n",
       " <div class=\"imgs cf\">\n",
       " <a href=\"/animals/facts/9107.html\"><img src=\"http://image.ngchina.com.cn/2019/0429/20190429113952328.jpg\"/></a>\n",
       " </div>\n",
       " </li>\n",
       " <li class=\"mod_w\">\n",
       " <div class=\"imgs cf\">\n",
       " <a href=\"/animals/facts/9106.html\"><img src=\"http://image.ngchina.com.cn/2019/0428/20190428054419880.jpg\"/></a>\n",
       " </div>\n",
       " </li>\n",
       " <li class=\"mod_w\">\n",
       " <div class=\"imgs cf\">\n",
       " <a href=\"/animals/facts/9102.html\"><img src=\"http://image.ngchina.com.cn/2019/0424/20190424041526608.jpg\"/></a>\n",
       " </div>\n",
       " </li>\n",
       " </ul>]"
      ]
     },
     "execution_count": 3,
     "metadata": {},
     "output_type": "execute_result"
    }
   ],
   "source": [
    "img_ul"
   ]
  },
  {
   "cell_type": "code",
   "execution_count": 5,
   "metadata": {},
   "outputs": [
    {
     "name": "stdout",
     "output_type": "stream",
     "text": [
      "Saved 20190515094945226.jpg\n",
      "Saved 20190510033912390.jpg\n",
      "Saved 20190506112549673.jpg\n",
      "Saved 20190429113952328.jpg\n",
      "Saved 20190428054419880.jpg\n",
      "Saved 20190424041526608.jpg\n"
     ]
    }
   ],
   "source": [
    "for ul in img_ul:\n",
    "    imgs = ul.find_all('img')\n",
    "    for img in imgs:\n",
    "        url = img['src']\n",
    "        r = requests.get(url, stream=True)\n",
    "        image_name = url.split('/')[-1]\n",
    "        with open('/Users/yuxiangxiang/Desktop/Python/Fun_projects/Python_Projects_self_study%s' % image_name, 'wb') as f:\n",
    "            for chunk in r.iter_content(chunk_size=128):\n",
    "                f.write(chunk)\n",
    "        print('Saved %s' % image_name)\n"
   ]
  },
  {
   "cell_type": "code",
   "execution_count": null,
   "metadata": {},
   "outputs": [],
   "source": []
  }
 ],
 "metadata": {
  "kernelspec": {
   "display_name": "Python 3",
   "language": "python",
   "name": "python3"
  },
  "language_info": {
   "codemirror_mode": {
    "name": "ipython",
    "version": 3
   },
   "file_extension": ".py",
   "mimetype": "text/x-python",
   "name": "python",
   "nbconvert_exporter": "python",
   "pygments_lexer": "ipython3",
   "version": "3.6.8"
  }
 },
 "nbformat": 4,
 "nbformat_minor": 2
}
